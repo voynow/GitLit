{
 "cells": [
  {
   "cell_type": "code",
   "execution_count": 1,
   "metadata": {},
   "outputs": [],
   "source": [
    "%load_ext autoreload\n",
    "%autoreload 2\n",
    "\n",
    "from generate import query_github_trending, get_repo_content\n",
    "import tiktoken"
   ]
  },
  {
   "cell_type": "code",
   "execution_count": 2,
   "metadata": {},
   "outputs": [],
   "source": [
    "def num_tokens_from_string(string: str, encoding_name: str) -> int:\n",
    "    \"\"\"Returns the number of tokens in a text string.\"\"\"\n",
    "    encoding = tiktoken.get_encoding(encoding_name)\n",
    "    num_tokens = len(encoding.encode(string, allowed_special=\"all\"))\n",
    "    return num_tokens"
   ]
  },
  {
   "cell_type": "code",
   "execution_count": 3,
   "metadata": {},
   "outputs": [],
   "source": [
    "repo_metadata = query_github_trending(n_repos=10, last_n_days=30, language=\"python\")"
   ]
  },
  {
   "cell_type": "code",
   "execution_count": 4,
   "metadata": {},
   "outputs": [
    {
     "name": "stdout",
     "output_type": "stream",
     "text": [
      "Skipping file assets/bach.mp3 due to UnicodeDecodeError\n",
      "Skipping file assets/bolero_ravel.mp3 due to UnicodeDecodeError\n"
     ]
    },
    {
     "ename": "TypeError",
     "evalue": "num_tokens_from_string() missing 1 required positional argument: 'encoding_name'",
     "output_type": "error",
     "traceback": [
      "\u001b[1;31m---------------------------------------------------------------------------\u001b[0m",
      "\u001b[1;31mTypeError\u001b[0m                                 Traceback (most recent call last)",
      "Cell \u001b[1;32mIn[4], line 9\u001b[0m\n\u001b[0;32m      7\u001b[0m result \u001b[39m=\u001b[39m get_repo_content(repo_keys[\u001b[39m'\u001b[39m\u001b[39muser\u001b[39m\u001b[39m'\u001b[39m], repo_keys[\u001b[39m'\u001b[39m\u001b[39mrepo\u001b[39m\u001b[39m'\u001b[39m])\n\u001b[0;32m      8\u001b[0m repo_str \u001b[39m=\u001b[39m \u001b[39m\"\u001b[39m\u001b[39m\\n\u001b[39;00m\u001b[39m\\n\u001b[39;00m\u001b[39m\"\u001b[39m\u001b[39m.\u001b[39mjoin([\u001b[39mf\u001b[39m\u001b[39m\"\u001b[39m\u001b[39m{\u001b[39;00mpath\u001b[39m}\u001b[39;00m\u001b[39m\\n\u001b[39;00m\u001b[39m\\n\u001b[39;00m\u001b[39m{\u001b[39;00mcontent\u001b[39m}\u001b[39;00m\u001b[39m\"\u001b[39m \u001b[39mfor\u001b[39;00m path, content \u001b[39min\u001b[39;00m result\u001b[39m.\u001b[39mitems()])\n\u001b[1;32m----> 9\u001b[0m num_tokens \u001b[39m=\u001b[39m num_tokens_from_string(repo_str)\n\u001b[0;32m     11\u001b[0m \u001b[39mprint\u001b[39m(repo_keys, num_tokens)\n",
      "\u001b[1;31mTypeError\u001b[0m: num_tokens_from_string() missing 1 required positional argument: 'encoding_name'"
     ]
    }
   ],
   "source": [
    "repo_keys = {}\n",
    "\n",
    "for obj in repo_metadata:\n",
    "    repo_keys['user'] = obj['owner']['login']\n",
    "    repo_keys['repo'] = obj['name']\n",
    "\n",
    "    result = get_repo_content(repo_keys['user'], repo_keys['repo'])\n",
    "    repo_str = \"\\n\\n\".join([f\"{path}\\n\\n{content}\" for path, content in result.items()])\n",
    "    num_tokens = num_tokens_from_string(repo_str)\n",
    "\n",
    "    print(repo_keys, num_tokens)"
   ]
  },
  {
   "cell_type": "code",
   "execution_count": null,
   "metadata": {},
   "outputs": [],
   "source": []
  }
 ],
 "metadata": {
  "kernelspec": {
   "display_name": "venv",
   "language": "python",
   "name": "python3"
  },
  "language_info": {
   "codemirror_mode": {
    "name": "ipython",
    "version": 3
   },
   "file_extension": ".py",
   "mimetype": "text/x-python",
   "name": "python",
   "nbconvert_exporter": "python",
   "pygments_lexer": "ipython3",
   "version": "3.10.1"
  },
  "orig_nbformat": 4
 },
 "nbformat": 4,
 "nbformat_minor": 2
}
