{
 "cells": [
  {
   "cell_type": "code",
   "execution_count": 2,
   "metadata": {},
   "outputs": [],
   "source": [
    "%reload_ext autoreload\n",
    "%autoreload 2\n",
    "\n",
    "from git_lit import generate"
   ]
  },
  {
   "cell_type": "code",
   "execution_count": 10,
   "metadata": {},
   "outputs": [
    {
     "name": "stdout",
     "output_type": "stream",
     "text": [
      "https://github.com/THUDM/ChatGLM2-6B 19070\n",
      "https://github.com/CASIA-IVA-Lab/FastSAM 13601\n",
      "https://github.com/princeton-vl/infinigen 10619\n",
      "https://github.com/embedchain/embedchain 5598\n",
      "https://github.com/Stability-AI/generative-models 14426\n",
      "https://github.com/alexbei/telegram-groups 265855\n",
      "https://github.com/s0md3v/sd-webui-roop 9030\n",
      "https://github.com/OpenLMLab/LOMO 3264\n",
      "https://github.com/techleadhd/chatgpt-retrieval 913\n",
      "https://github.com/salesforce/xgen 4721\n",
      "https://github.com/BerriAI/reliableGPT 10648\n",
      "https://github.com/e-johnstonn/FableForge 7079\n",
      "https://github.com/abacaj/mpt-30B-inference 2632\n",
      "https://github.com/gorilla-llm/gorilla-cli 5202\n",
      "https://github.com/eric-mitchell/direct-preference-optimization 19317\n",
      "https://github.com/pentilm/AirCtrl 9567\n",
      "https://github.com/automorphic-ai/aegis 1929\n",
      "https://github.com/JetP1ane/Callisto 2818\n",
      "https://github.com/ictnlp/BayLing 53438\n",
      "https://github.com/JorisdeJong123/7-Days-of-LangChain 449\n",
      "https://github.com/emrgnt-cmplxty/Automata 10350\n",
      "https://github.com/cracksoftorg/Valorant-Nexus-Checker 8455\n",
      "https://github.com/Felpesx/Twitter-Auto-Reply-Bot 766\n",
      "https://github.com/mzakocs/qualcomm_baseband_scripts 9863\n",
      "https://github.com/WKL-Sec/WMIExec 2436\n",
      "https://github.com/abacaj/replit-3B-inference 2575\n",
      "https://github.com/Hannibal046/nanoRWKV 212870\n",
      "https://github.com/simonw/symbex 7286\n",
      "https://github.com/ZikangZhou/QCNet 11883\n",
      "https://github.com/XiaoliChan/zerologon-Shot 1300\n",
      "https://github.com/ZacharyZcR/SecGPT 17162\n",
      "https://github.com/lucidrains/spear-tts-pytorch 2074\n",
      "https://github.com/voxel51/papers-with-data 20010\n",
      "https://github.com/MrSaighnal/GCR-Google-Calendar-RAT 2870\n",
      "https://github.com/AkshitIreddy/Interactive-LLM-Powered-NPCs 25888\n",
      "https://github.com/adhikary97/Sharetape-Open-Source 177426\n",
      "https://github.com/neukg/TechGPT 10871\n",
      "https://github.com/lcw99/evolve-instruct 26951\n",
      "https://github.com/openmedlab/MedLSAM 10107\n",
      "https://github.com/facebookresearch/robust-dynrf 53840\n",
      "https://github.com/tiebarandomuser/vtuberguildqueue 627901\n",
      "https://github.com/neelsjain/BYOD 6854\n",
      "https://github.com/seedgularity/SearchGPT 3541\n",
      "https://github.com/discus0434/paper-summarizer 9831\n",
      "https://github.com/rasbt/cvpr2023 22861\n",
      "https://github.com/ssbuild/chatglm2_finetuning 13338\n",
      "https://github.com/Newbeeer/diffusion_restart_sampling 2619\n",
      "https://github.com/artyfacialintelagent/CloneCleaner 9499\n",
      "https://github.com/amir-cardiolab/Py4SciComp 2832\n",
      "https://github.com/davidberenstein1957/spacy-setfit 140214\n",
      "https://github.com/Anof-cyber/ParaForge 4806\n",
      "https://github.com/vilm-ai/vietcuna 3024\n",
      "https://github.com/RockChinQ/CallingGPT 3222\n",
      "https://github.com/nuts7/CVE-2023-27372 3288\n",
      "https://github.com/aitomatic/openssm 3116\n",
      "https://github.com/BishopFox/CVE-2023-27997-check 1927\n",
      "https://github.com/EmbraceAGI/LocalAGI 24481\n",
      "https://github.com/atomicarchitects/equiformer_v2 8561\n",
      "https://github.com/DEV-D-GR8/Self-Driving-Car 4488\n",
      "https://github.com/Jistx/Tiktok-Viewbot-Sharebot 2829\n",
      "https://github.com/Simoon-F/openai-function-calling-use-examples 1545\n",
      "https://github.com/opendilab/DOS 3854\n",
      "https://github.com/IMOSR/Media-LLaMA 3243\n",
      "https://github.com/mahdeslami11/MRI-feilds- 7649\n",
      "https://github.com/aurelio-labs/funkagent 1870\n",
      "https://github.com/tzwm/sd-webui-model-downloader-cn 8322\n",
      "https://github.com/dbeley/awesome-lemmy 13129\n",
      "https://github.com/mayooear/private-chatbot-mpt30b-langchain 178471\n",
      "https://github.com/DreamEditBenchTeam/DreamEdit 1187\n",
      "https://github.com/LeslieZhoa/Simple-Lora 10209\n",
      "https://github.com/deepmind/randomized_positional_encodings 4297\n",
      "https://github.com/yuanzhi-zhu/prolific_dreamer2d 14001\n",
      "https://github.com/apple/ml-pointconvformer 45610\n",
      "https://github.com/MPForte/SGNify 8896\n",
      "https://github.com/Nick-Vinesmoke/VineShield 4554\n",
      "https://github.com/revalo/iceberg 2183\n",
      "https://github.com/guanjz20/StyleSync_PyTorch 15079\n",
      "https://github.com/zqx951102/AMPN 15744\n",
      "https://github.com/wolfia-app/gpt-code-search 77466\n",
      "https://github.com/PerceivingSystems/bedlam_render 2762\n",
      "https://github.com/allenai/aries 5045\n",
      "https://github.com/unconv/gpt-pydecorator 3404\n",
      "https://github.com/facebookresearch/novel-view-acoustic-synthesis 16756\n",
      "https://github.com/iomoath/RedWardenLite 17019\n",
      "https://github.com/Maximilian-Winter/AIRoleplay 2202\n",
      "https://github.com/codekansas/rwkv 2282\n",
      "https://github.com/patrick-kidger/quax 4274\n",
      "https://github.com/aoliao12138/ReRF 30900\n",
      "https://github.com/juankysoriano/gpt-producer 5951\n",
      "https://github.com/conqueror62821/Image-Reverse-Search-TelegramBot 4520\n",
      "https://github.com/DH13768095744/RM_Buff_Tracker_GUT 12536\n",
      "https://github.com/pythonlarp/TelegramAdBot 3677\n",
      "https://github.com/s0md3v/ifnude 2462\n",
      "https://github.com/haonan-li/CMMLU 7582\n",
      "https://github.com/Robertwyq/PanoOcc 9977\n",
      "https://github.com/lucsemassa/payload_launcher 15125\n",
      "https://github.com/34306/unitydump-iOS 1072\n",
      "https://github.com/DataCTE/Camel-Coder 9873\n",
      "https://github.com/StanislavPetrovV/Minecraft 7824\n",
      "https://github.com/Azure-Samples/jp-azureopenai-samples 4477\n"
     ]
    }
   ],
   "source": [
    "import json\n",
    "\n",
    "resp = generate.search_for_repo(last_n_days=14, n_repos=100)\n",
    "json.dump(resp, open(\"test.json\", \"w\"))"
   ]
  },
  {
   "cell_type": "code",
   "execution_count": 6,
   "metadata": {},
   "outputs": [
    {
     "name": "stdout",
     "output_type": "stream",
     "text": [
      "Skipping file fonts/ArchitectsDaughter.ttf due to UnicodeDecodeError\n",
      "Skipping file fonts/KGNeatlyPrinted.ttf due to UnicodeDecodeError\n"
     ]
    }
   ],
   "source": [
    "from IPython.display import display, Markdown\n",
    "\n",
    "repo_content = generate.get_repo_content('e-johnstonn', 'FableForge')\n",
    "repo_str = \"\\n\\n\".join(\n",
    "    [f\"{path}\\n\\n{content}\" for path, content in repo_content.items()]\n",
    ")\n",
    "response = generate.generate_article(repo_str)"
   ]
  },
  {
   "cell_type": "code",
   "execution_count": 7,
   "metadata": {},
   "outputs": [
    {
     "data": {
      "text/markdown": [
       "# FableForge: An Open Source Project for Generating Picture Books\n",
       "\n",
       "FableForge is an open source project that uses artificial intelligence to generate picture books from a single prompt. The project utilizes OpenAI's new function calling, Replicate's API for Stable Diffusion, and Deep Lake for storing generated images and corresponding prompts. This article will take a deep dive into the project, explaining its functionality, setup, and potential improvements.\n",
       "\n",
       "## Project Overview\n",
       "\n",
       "FableForge is built with LangChain, Deep Lake, and Replicate. The project generates a picture book from a single prompt using OpenAI's new function calling and Replicate's API for Stable Diffusion. The generated images and corresponding prompts are stored in Deep Lake. \n",
       "\n",
       "The project is licensed under the MIT License, which allows anyone to use, copy, modify, merge, publish, distribute, sublicense, and/or sell copies of the Software.\n",
       "\n",
       "## Installation and Setup\n",
       "\n",
       "To install FableForge, you need to clone the repository and install the requirements specified in the `requirements.txt` file. You also need to set up your OpenAI and Replicate API keys in `keys.env`. \n",
       "\n",
       "If you want to save your images and prompts, you need to set up your Activeloop Deep Lake token and dataset path in `keys.env`. After setting up, you can run `streamlit run main.py` to start the app.\n",
       "\n",
       "## Deep Lake Setup\n",
       "\n",
       "Deep Lake is used to store the generated pictures and prompts in the cloud. It makes it easy to work with multiple modalities of data (image/text), and displays them in a web UI. To set this up, you need to create an account on the Deep Lake website and get an API token and dataset link. \n",
       "\n",
       "## Replicate Setup\n",
       "\n",
       "A Replicate API key is necessary for this app. You can get one by creating an account on the Replicate website. Replicate provides free image generation for new users.\n",
       "\n",
       "## Architecture\n",
       "\n",
       "The architecture of FableForge is designed to be straightforward and efficient. It uses a combination of OpenAI's GPT-3, Replicate's Stable Diffusion, and Deep Lake's data storage capabilities to generate and store picture books.\n",
       "\n",
       "## Improvements\n",
       "\n",
       "The current demo uses Replicate for image generation due to its ease of use. However, it can be connected to your own Stable Diffusion setup (local or cloud-based) for better results. The project recommends some combination of Diffusers and FastAPI as a starting point.\n",
       "\n",
       "## Code Review\n",
       "\n",
       "The codebase of FableForge is well-structured and organized. It includes a `.gitignore` file to ignore unnecessary files and folders, a `LICENSE` file for the MIT License, and a `README.md` file for project documentation.\n",
       "\n",
       "The main logic of the project is contained in `api_utils.py`, `deep_lake_utils.py`, `main.py`, and `pdf_gen_utils.py`. \n",
       "\n",
       "`api_utils.py` contains the `BuildBook` class which handles the generation of the book text and images. \n",
       "\n",
       "`deep_lake_utils.py` contains the `SaveToDeepLake` class which handles saving the generated images and prompts to Deep Lake.\n",
       "\n",
       "`main.py` is the main script that runs the Streamlit app and handles user input.\n",
       "\n",
       "`pdf_gen_utils.py` contains functions for generating the final PDF of the picture book.\n",
       "\n",
       "## Conclusion\n",
       "\n",
       "FableForge is an innovative open source project that leverages the power of AI to generate picture books. It provides a great example of how AI can be used in creative and educational applications. Whether you're a developer looking to contribute to an open source project, an educator looking for new teaching tools, or just a tech enthusiast interested in AI, FableForge is worth checking out."
      ],
      "text/plain": [
       "<IPython.core.display.Markdown object>"
      ]
     },
     "metadata": {},
     "output_type": "display_data"
    }
   ],
   "source": [
    "display(Markdown(response['text']))"
   ]
  },
  {
   "cell_type": "code",
   "execution_count": 8,
   "metadata": {},
   "outputs": [
    {
     "name": "stdout",
     "output_type": "stream",
     "text": [
      "Skipping file fonts/ArchitectsDaughter.ttf due to UnicodeDecodeError\n",
      "Skipping file fonts/KGNeatlyPrinted.ttf due to UnicodeDecodeError\n"
     ]
    }
   ],
   "source": [
    "from IPython.display import display, Markdown\n",
    "\n",
    "repo_content = generate.get_repo_content('e-johnstonn', 'FableForge')\n",
    "repo_str = \"\\n\\n\".join(\n",
    "    [f\"{path}\\n\\n{content}\" for path, content in repo_content.items()]\n",
    ")\n",
    "response = generate.generate_article(repo_str)"
   ]
  },
  {
   "cell_type": "code",
   "execution_count": 9,
   "metadata": {},
   "outputs": [
    {
     "data": {
      "text/markdown": [
       "# FableForge: An Open Source Project for Generating Picture Books\n",
       "\n",
       "FableForge is an innovative open source project that uses artificial intelligence to generate picture books from a single prompt. The project leverages the power of OpenAI's new function calling, Replicate's API for Stable Diffusion, and Deep Lake for storing generated images and corresponding prompts. This article will take a deep dive into the architecture of FableForge, its pros and cons, and the main tools/packages/dependencies used in the project.\n",
       "\n",
       "## Architecture\n",
       "\n",
       "FableForge's architecture is designed to be efficient and scalable. The project is built with LangChain, Deep Lake, and Replicate. The architecture diagram shows the flow of data and the interaction between different components of the project.\n",
       "\n",
       "The process starts with the user inputting a prompt. The prompt is then processed by the OpenAI model to generate the text for the book. The generated text is then passed to the Replicate API, which generates images based on the text. The images and corresponding prompts are then stored in Deep Lake.\n",
       "\n",
       "The architecture is designed in such a way that it can handle multiple requests concurrently. It uses ThreadPoolExecutor for parallel processing, which significantly improves the performance of the application.\n",
       "\n",
       "## Pros and Cons\n",
       "\n",
       "### Pros\n",
       "\n",
       "1. **Innovative Use of AI:** FableForge creatively uses AI to generate picture books. This opens up new possibilities for content creation.\n",
       "\n",
       "2. **Scalability:** The use of ThreadPoolExecutor for parallel processing makes the application highly scalable.\n",
       "\n",
       "3. **Ease of Use:** The application is easy to use. Users only need to input a prompt, and the application generates a picture book based on the prompt.\n",
       "\n",
       "4. **Open Source:** Being an open source project, FableForge allows developers to contribute to the project and learn from it.\n",
       "\n",
       "### Cons\n",
       "\n",
       "1. **Dependence on External APIs:** The application relies heavily on external APIs like OpenAI and Replicate. Any changes or issues with these APIs can affect the functionality of the application.\n",
       "\n",
       "2. **Limited Customization:** The application currently supports a limited number of styles for the picture books. More styles could be added to enhance the user experience.\n",
       "\n",
       "## Main Tools/Packages/Dependencies\n",
       "\n",
       "### OpenAI\n",
       "\n",
       "OpenAI's API is used to generate the text for the picture books. The API supports a variety of models and provides powerful capabilities for natural language processing.\n",
       "\n",
       "### Replicate\n",
       "\n",
       "Replicate's API is used to generate images based on the generated text. The API supports Stable Diffusion, which is a method for generating high-quality images.\n",
       "\n",
       "### Deep Lake\n",
       "\n",
       "Deep Lake is used to store the generated images and corresponding prompts. It provides an easy way to work with multiple modalities of data and displays them in a web UI.\n",
       "\n",
       "### LangChain\n",
       "\n",
       "LangChain is used to handle the interaction with the OpenAI API. It provides a convenient way to send requests to the API and process the responses.\n",
       "\n",
       "### Streamlit\n",
       "\n",
       "Streamlit is used to create the web interface for the application. It allows for rapid prototyping and development of web applications.\n",
       "\n",
       "### Python's Concurrent.Futures\n",
       "\n",
       "Python's concurrent.futures module provides a high-level interface for asynchronously executing callables. The module uses ThreadPoolExecutor for parallel processing, which significantly improves the performance of the application.\n",
       "\n",
       "## Conclusion\n",
       "\n",
       "FableForge is a fascinating open source project that showcases the power of AI in content creation. The project provides a great learning opportunity for developers interested in AI, image generation, and web development. Despite its reliance on external APIs and limited customization options, FableForge stands out for its innovative use of AI, scalability, and ease of use."
      ],
      "text/plain": [
       "<IPython.core.display.Markdown object>"
      ]
     },
     "metadata": {},
     "output_type": "display_data"
    }
   ],
   "source": [
    "display(Markdown(response['text']))"
   ]
  },
  {
   "cell_type": "code",
   "execution_count": 10,
   "metadata": {},
   "outputs": [
    {
     "name": "stdout",
     "output_type": "stream",
     "text": [
      "Skipping file fonts/ArchitectsDaughter.ttf due to UnicodeDecodeError\n",
      "Skipping file fonts/KGNeatlyPrinted.ttf due to UnicodeDecodeError\n"
     ]
    }
   ],
   "source": [
    "from IPython.display import display, Markdown\n",
    "\n",
    "repo_content = generate.get_repo_content('e-johnstonn', 'FableForge')\n",
    "repo_str = \"\\n\\n\".join(\n",
    "    [f\"{path}\\n\\n{content}\" for path, content in repo_content.items()]\n",
    ")\n",
    "response = generate.generate_article(repo_str)"
   ]
  },
  {
   "cell_type": "code",
   "execution_count": 11,
   "metadata": {},
   "outputs": [
    {
     "data": {
      "text/markdown": [
       "# FableForge: A Deep Dive into Generating Picture Books with OpenAI and Replicate\n",
       "\n",
       "FableForge is an open-source project that leverages the power of OpenAI and Replicate to generate picture books from a single prompt. It's an exciting project that combines the capabilities of AI and image generation to create a unique and interactive experience. In this article, we'll take a deep dive into the project, exploring its architecture, the tools it uses, and how you can contribute to its development.\n",
       "\n",
       "## System Design and Architecture\n",
       "\n",
       "FableForge is designed as a Streamlit application, which allows for a user-friendly interface where users can input a prompt and generate a picture book. The application uses OpenAI's GPT-3 model to generate the text for the book and Replicate's API for Stable Diffusion to generate the images. The generated images and corresponding prompts are stored in Deep Lake, a cloud-based storage solution.\n",
       "\n",
       "The project is structured into several Python files, each responsible for a specific functionality:\n",
       "\n",
       "- `main.py`: This is the entry point of the application. It handles user inputs and controls the flow of the application.\n",
       "- `api_utils.py`: This file contains the `BuildBook` class, which is responsible for generating the book text and images.\n",
       "- `deep_lake_utils.py`: This file contains the `SaveToDeepLake` class, which is responsible for saving the generated images and prompts to Deep Lake.\n",
       "- `pdf_gen_utils.py`: This file contains functions for creating the final PDF of the picture book.\n",
       "- `prompts.py`: This file contains the prompts used by the OpenAI model to generate the book text.\n",
       "\n",
       "## Key Tools and Packages\n",
       "\n",
       "FableForge uses several open-source tools and packages to achieve its functionality:\n",
       "\n",
       "- **OpenAI**: The project uses OpenAI's GPT-3 model to generate the text for the picture book. The model is fed a prompt and generates a story based on it.\n",
       "\n",
       "- **Replicate**: Replicate's API for Stable Diffusion is used to generate the images for the book. The API takes a prompt and generates an image based on it.\n",
       "\n",
       "- **Deep Lake**: Deep Lake is used to store the generated images and prompts. It provides a convenient way to store and manage the data generated by the application.\n",
       "\n",
       "- **Streamlit**: Streamlit is used to create the user interface for the application. It allows for easy creation of interactive web applications.\n",
       "\n",
       "- **ReportLab**: ReportLab is used to generate the final PDF of the picture book. It provides a powerful set of tools for creating complex PDF documents.\n",
       "\n",
       "## Contributing to FableForge\n",
       "\n",
       "FableForge is an open-source project and welcomes contributions from the community. Here are a few ways you can contribute:\n",
       "\n",
       "- **Improve the Image Generation**: The current implementation uses Replicate for image generation. You could contribute by connecting it to your own Stable Diffusion setup for better results.\n",
       "\n",
       "- **Add More Styles**: The application currently supports a limited number of styles for the picture book. You could contribute by adding more styles.\n",
       "\n",
       "- **Improve the User Interface**: While the current Streamlit interface is functional, there's always room for improvement. You could contribute by improving the user interface.\n",
       "\n",
       "- **Bug Fixes and Performance Improvements**: As with any software project, there are likely to be bugs and performance issues. You could contribute by fixing these issues and improving the performance of the application.\n",
       "\n",
       "## Similar Projects\n",
       "\n",
       "If you're interested in FableForge, you might also want to check out similar projects like:\n",
       "\n",
       "- **DeepArt.io**: This is a web application that uses AI to turn your photos into art.\n",
       "- **Runway ML**: This is a creative toolkit powered by machine learning that allows creators to use AI in their projects.\n",
       "- **Artbreeder**: This is a platform that uses AI to combine images and create new visuals.\n",
       "\n",
       "In conclusion, FableForge is an exciting project that showcases the power of AI in creative applications. Whether you're a developer interested in contributing to the project or a user looking to generate your own picture book, FableForge offers a unique and engaging experience."
      ],
      "text/plain": [
       "<IPython.core.display.Markdown object>"
      ]
     },
     "metadata": {},
     "output_type": "display_data"
    }
   ],
   "source": [
    "display(Markdown(response['text']))"
   ]
  },
  {
   "cell_type": "code",
   "execution_count": 12,
   "metadata": {},
   "outputs": [
    {
     "name": "stdout",
     "output_type": "stream",
     "text": [
      "Skipping file fonts/ArchitectsDaughter.ttf due to UnicodeDecodeError\n",
      "Skipping file fonts/KGNeatlyPrinted.ttf due to UnicodeDecodeError\n"
     ]
    }
   ],
   "source": [
    "from IPython.display import display, Markdown\n",
    "\n",
    "repo_content = generate.get_repo_content('e-johnstonn', 'FableForge')\n",
    "repo_str = \"\\n\\n\".join(\n",
    "    [f\"{path}\\n\\n{content}\" for path, content in repo_content.items()]\n",
    ")\n",
    "response = generate.generate_article(repo_str)"
   ]
  },
  {
   "cell_type": "code",
   "execution_count": 13,
   "metadata": {},
   "outputs": [
    {
     "data": {
      "text/markdown": [
       "# FableForge: An Open Source Project for Generating Picture Books\n",
       "\n",
       "FableForge is an open source project that uses artificial intelligence to generate picture books from a single prompt. This project is built with LangChain, Deep Lake, and Replicate, and it leverages OpenAI's new function calling and Replicate's API for Stable Diffusion. This article will take a deep dive into the project, explaining its software architecture, the tools/packages used, and how it can be extrapolated to adjacent projects and work streams.\n",
       "\n",
       "## System Design and Software Architecture\n",
       "\n",
       "FableForge is designed to be a standalone application that can be run locally. The main components of the system are:\n",
       "\n",
       "1. **OpenAI's GPT-3.5-turbo model**: This model is used to generate the text for the picture book. The model takes a prompt from the user and generates a 3-6 page children's picture book. Each page contains 2-3 sentences and the text is formatted to include a title and page numbers.\n",
       "\n",
       "2. **Replicate's API for Stable Diffusion**: This API is used to generate images for each page of the book. The images are generated based on the text from the GPT-3.5-turbo model.\n",
       "\n",
       "3. **Deep Lake**: This is used to store the generated images and corresponding prompts in the cloud. It makes it easy to work with multiple modalities of data (image/text) and displays them in a web UI.\n",
       "\n",
       "4. **Streamlit**: This is used to create the user interface for the application. The user can enter a prompt, select a style for the picture book, and choose a model to use. The user can also choose to save the generated book to Deep Lake.\n",
       "\n",
       "## Critical Tools and Packages\n",
       "\n",
       "Several tools and packages are used in this project. Here are some of the most critical ones:\n",
       "\n",
       "1. **dotenv**: This package is used to load environment variables from a `.env` file. These variables include the OpenAI and Replicate API keys, and the Deep Lake token and dataset path.\n",
       "\n",
       "2. **streamlit**: This package is used to create the user interface for the application. It provides functions for creating text inputs, select boxes, radio buttons, checkboxes, and buttons.\n",
       "\n",
       "3. **concurrent.futures**: This module provides a high-level interface for asynchronously executing callables. It is used to generate the prompts and images for the book in parallel, which significantly speeds up the generation process.\n",
       "\n",
       "4. **requests**: This package is used to download the generated images from the URLs returned by the Replicate API.\n",
       "\n",
       "5. **PyPDF2 and reportlab**: These packages are used to create the PDF file for the picture book. PyPDF2 is used to merge the individual PDF files for each page into a single PDF file, and reportlab is used to create the individual PDF files.\n",
       "\n",
       "## Contribution Ideas and Extrapolation to Adjacent Projects\n",
       "\n",
       "FableForge is an open source project, and there are many ways to contribute to it. One idea is to improve the image generation process. Currently, the project uses Replicate for image generation due to its ease of use. However, it is possible to connect it to your own Stable Diffusion setup (local or cloud-based) for better results.\n",
       "\n",
       "Another idea is to add more styles for the picture books. Currently, the project supports several styles, including Impressionism, Cubism, Surrealism, Japanese Ukiyo-e, Art Nouveau, Folk Art, and Expressionism. Adding more styles would provide more options for the users and make the generated books more diverse.\n",
       "\n",
       "This project can also be extrapolated to adjacent projects and work streams. For example, it can be used as a basis for creating a tool for generating comic books or graphic novels. It can also be used to create educational materials, such as illustrated textbooks or educational games. The possibilities are endless."
      ],
      "text/plain": [
       "<IPython.core.display.Markdown object>"
      ]
     },
     "metadata": {},
     "output_type": "display_data"
    }
   ],
   "source": [
    "display(Markdown(response['text']))"
   ]
  },
  {
   "cell_type": "code",
   "execution_count": null,
   "metadata": {},
   "outputs": [],
   "source": []
  }
 ],
 "metadata": {
  "kernelspec": {
   "display_name": "venv",
   "language": "python",
   "name": "python3"
  },
  "language_info": {
   "codemirror_mode": {
    "name": "ipython",
    "version": 3
   },
   "file_extension": ".py",
   "mimetype": "text/x-python",
   "name": "python",
   "nbconvert_exporter": "python",
   "pygments_lexer": "ipython3",
   "version": "3.10.1"
  },
  "orig_nbformat": 4
 },
 "nbformat": 4,
 "nbformat_minor": 2
}
